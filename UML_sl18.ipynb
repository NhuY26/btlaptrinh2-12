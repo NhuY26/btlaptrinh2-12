{
  "nbformat": 4,
  "nbformat_minor": 0,
  "metadata": {
    "colab": {
      "name": "UML-sl18.ipynb",
      "provenance": [],
      "authorship_tag": "ABX9TyPkDOiYAe6DvbNv3as7h73I",
      "include_colab_link": true
    },
    "kernelspec": {
      "name": "python3",
      "display_name": "Python 3"
    },
    "language_info": {
      "name": "python"
    }
  },
  "cells": [
    {
      "cell_type": "markdown",
      "metadata": {
        "id": "view-in-github",
        "colab_type": "text"
      },
      "source": [
        "<a href=\"https://colab.research.google.com/github/NhuY26/btlaptrinh2-12/blob/main/UML_sl18.ipynb\" target=\"_parent\"><img src=\"https://colab.research.google.com/assets/colab-badge.svg\" alt=\"Open In Colab\"/></a>"
      ]
    },
    {
      "cell_type": "code",
      "source": [
        "class Item:\n",
        "  shippingWeight:str\n",
        "  description:str\n",
        "  def __init__(self,shippingWeight,description):\n",
        "    self.shippingWeight=shippingWeight\n",
        "    self.description=description\n",
        "  def  getPriceForQuantity(self):\n",
        "    pass\n",
        "  def getTax(self):\n",
        "    pass\n",
        "  def inStock(self):\n",
        "    pass\n",
        "\n",
        "class OrderDetail:\n",
        "  item:Item\n",
        "  quantity: str\n",
        "  taxStatus:str\n",
        "  def __init__(self,quantity,taxStatus):\n",
        "    self.quantity=quantity\n",
        "    self.taxStatus=taxStatus\n",
        "  def calcSubTotal(self):\n",
        "    pass\n",
        "  def calcWeight(self):\n",
        "    pass\n",
        "  def calcTax(self):\n",
        "    pass\n",
        "\n",
        "class Payment:\n",
        "  amount:float\n",
        "  def __init__(self,amount):\n",
        "    self.amount=amount\n",
        "\n",
        "class Cash(Payment):\n",
        "  cashTendered: float\n",
        "  def __init__(self,amount,cashTendered):\n",
        "    Payment.__init__(self,amount)\n",
        "    self.cashTendered=cashTendered\n",
        "\n",
        "class Check(Payment):\n",
        "  name: str\n",
        "  bankID: str\n",
        "  def __init__(self,amount,name,bankID):\n",
        "    Payment.__init__(self,amount)\n",
        "    self.name=name\n",
        "    self.bankID=bankID\n",
        "  def authorized(self):\n",
        "    pass\n",
        "\n",
        "class Credit(Payment):\n",
        "  number: str\n",
        "  type: str\n",
        "  expDate: str\n",
        "  def __init__(self,amount,number,type,expDate):\n",
        "    Payment.__init__(self,amount)\n",
        "    self.number=number\n",
        "    self.type=type\n",
        "    self.expDate=expDate\n",
        "  def authorized(self):\n",
        "    pass\n",
        "\n",
        "class Order:\n",
        "  orderdetail:list[OrderDetail]\n",
        "  payment:list[Cash,Check,Credit]\n",
        "  date:str\n",
        "  status:str\n",
        "  def __init__(self,date,status):\n",
        "    self.orderdetail=[]\n",
        "    self.payment=[]\n",
        "    self.date=date\n",
        "    self.status=status\n",
        "  def calcSubTotal(self):\n",
        "    pass\n",
        "  def calcTax(self):\n",
        "    pass\n",
        "  def calcTotal(self):\n",
        "    pass\n",
        "  def calcTotalWeight(self):\n",
        "    pass\n",
        "\n",
        "class Customer:\n",
        "  order:list[Order]\n",
        "  name:str\n",
        "  address:str\n",
        "  def __init__(self,name,address):\n",
        "    self.order=[]\n",
        "    self.name=name\n",
        "    self.address=address"
      ],
      "metadata": {
        "id": "w82IaDPF1cuC"
      },
      "execution_count": null,
      "outputs": []
    }
  ]
}